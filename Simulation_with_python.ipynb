{
  "nbformat": 4,
  "nbformat_minor": 0,
  "metadata": {
    "colab": {
      "name": "Simulation_lab.ipynb",
      "provenance": []
    },
    "kernelspec": {
      "display_name": "Python 3",
      "name": "python3"
    },
    "language_info": {
      "name": "python"
    }
  },
  "cells": [
    {
      "cell_type": "code",
      "metadata": {
        "id": "r_6V9i7Fmep_"
      },
      "source": [
        "#For interarrival time\n",
        "from scipy.stats import *\n",
        "inter_a_time = poisson.rvs(mu=5.6, size=20)\n",
        "from operator import add\n",
        "import numpy as np"
      ],
      "execution_count": 6,
      "outputs": []
    },
    {
      "cell_type": "code",
      "metadata": {
        "id": "AqCJIwYnmiM0"
      },
      "source": [
        "inter_a_time[0]=0\n",
        "print(inter_a_time)"
      ],
      "execution_count": null,
      "outputs": []
    },
    {
      "cell_type": "code",
      "metadata": {
        "id": "KWtykUK6mj1G"
      },
      "source": [
        "#For service time\n",
        "data_expon = expon.rvs(scale=0.5,loc=5,size=20)"
      ],
      "execution_count": 3,
      "outputs": []
    },
    {
      "cell_type": "code",
      "metadata": {
        "id": "SJqcqmrOmp64"
      },
      "source": [
        "service_time=[round(data_expon,2) for data_expon in data_expon]"
      ],
      "execution_count": 19,
      "outputs": []
    },
    {
      "cell_type": "code",
      "metadata": {
        "id": "mvS73YMnNHtF"
      },
      "source": [
        "print(service_time)"
      ],
      "execution_count": null,
      "outputs": []
    },
    {
      "cell_type": "code",
      "metadata": {
        "id": "a2QfXxh1uPQy"
      },
      "source": [
        "#For Arrival Time\n",
        "a_time=[]\n",
        "j=0\n",
        "for i in range(0,len(inter_a_time)):\n",
        "    j+=inter_a_time[i]\n",
        "    a_time.append(j)\n",
        "     \n",
        "print(a_time)"
      ],
      "execution_count": null,
      "outputs": []
    },
    {
      "cell_type": "code",
      "metadata": {
        "id": "hxRYZDDVrUf2"
      },
      "source": [
        "import pandas as pd\n",
        "\n",
        "import numpy as np\n",
        "\n",
        "import matplotlib.pyplot as plt\n",
        "data=[]\n"
        "df = pd.DataFrame(data,index=[1, 2,3,4,5,6,7,8,9,10,11,12,13,14,15,16,17,18,19,20])\n"
        "df\n",
        "df[\"Interarrival Time\"]=inter_a_time\n",
        "df\n",
        "df[\"Arrival Time\"] = a_time\n",
        "df"
      ],
      "execution_count": null,
      "outputs": []
    },
    {
      "cell_type": "code",
      "metadata": {
        "id": "rOMujsWRz7gO"
      },
      "source": [
        "#For Time Service End\n",
        "time_s_end = []\n",
        "for i in range(0, len(a_time)):\n",
        "  tse=a_time[i]+service_time[i]\n",
        "  time_s_end.append(tse)"
      ],
      "execution_count": 37,
      "outputs": []
    },
    {
      "cell_type": "code",
      "metadata": {
        "id": "VYBhduvi0Ina"
      },
      "source": [
        "print (time_s_end)"
      ],
      "execution_count": null,
      "outputs": []
    },
    {
      "cell_type": "code",
      "metadata": {
        "id": "cFbsgHDT3EsR"
      },
      "source": [
        "#For Service time begin\n",
        "service_time_begin = []\n",
        "for i in range(0,20):\n",
        "  if a_time[i]> time_s_end[i-1]:\n",
        "    service= a_time[i]\n",
        "  else: service= time_s_end[i-1]\n",
        "  service_time_begin.append(service)\n",
        "             \n",
        "\n"
      ],
      "execution_count": 51,
      "outputs": []
    },
    {
      "cell_type": "code",
      "metadata": {
        "id": "rlpteAi78-G-"
      },
      "source": [
        "service_time_begin[0]=0\n",
        "print( service_time_begin)"
      ],
      "execution_count": null,
      "outputs": []
    },
    {
      "cell_type": "code",
      "metadata": {
        "id": "K5-Ilii3_IOp"
      },
      "source": [
        "#For waiting time\n",
        "waiting_time=[]\n",
        "for i in range(0, 20):\n",
        "  wt= service_time_begin[i]-a_time[i]\n",
        "  waiting_time.append(wt)"
      ],
      "execution_count": 54,
      "outputs": []
    },
    {
      "cell_type": "code",
      "metadata": {
        "id": "aAN5SmBWJjfS"
      },
      "source": [
        "print(waiting_time)"
      ],
      "execution_count": null,
      "outputs": []
    },
    {
      "cell_type": "code",
      "metadata": {
        "id": "vciXI_WJMfNj"
      },
      "source": [
        "#Time spend in the system\n",
        "spend_in_system=[]\n",
        "for i in range(0,20):\n",
        "  ss=service_time[i]+waiting_time[i]\n",
        "  spend_in_system.append(ss)"
      ],
      "execution_count": 57,
      "outputs": []
    },
    {
      "cell_type": "code",
      "metadata": {
        "id": "vpcJ0lX-Ny61"
      },
      "source": [
        "print(spend_in_system)"
      ],
      "execution_count": null,
      "outputs": []
    },
    {
      "cell_type": "code",
      "metadata": {
        "id": "Pl0bK6qYN4FG"
      },
      "source": [
        "#For idle time\n",
        "idle_time=[0]\n",
        "for i in range(0,19):\n",
        "  if a_time[i+1]> time_s_end[i]:\n",
        "    it = a_time[i+1]- time_s_end[i]\n",
        "  else: it= 0\n",
        "  idle_time.append(it)\n",
        "             \n"
      ],
      "execution_count": 67,
      "outputs": []
    },
    {
      "cell_type": "code",
      "metadata": {
        "id": "ZErnRj99UhTB"
      },
      "source": [
        "print(idle_time)"
      ],
      "execution_count": null,
      "outputs": []
    },
    {
      "cell_type": "code",
      "metadata": {
        "colab": {
          "base_uri": "https://localhost:8080/",
          "height": 686
        },
        "id": "oMmrPwRGuiBb",
        "outputId": "00e3da1f-64af-4804-838d-0f4e0ca34336"
      },
      "source": [
        "data=[]\n",
        "df = pd.DataFrame(data,index=[1, 2,3,4,5,6,7,8,9,10,11,12,13,14,15,16,17,18,19,20])\n",
        "df\n",
        "df = pd.DataFrame(data=d)\n",
        "df\n",
        "df[\"Interarrival Time\"]=inter_a_time\n",
        "df\n",
        "df[\"Arrival Time\"] = a_time\n",
        "df\n",
        "df[\"Service Time\"] = service_time\n",
        "df\n",
        "df[\"Time Service Begin\"] = service_time_begin\n",
        "df\n",
        "df[\"Waiting Time\"] = waiting_time\n",
        "df\n",
        "df[\"Time Service End\"] = time_s_end\n",
        "df\n",
        "df[\"The Customer Spend time in the system\"] = spend_in_system\n",
        "df\n",
        "df[\"Idle Time\"] = idle_time\n",
        "df"
      ],
      "execution_count": 69,
      "outputs": [
        {
          "output_type": "execute_result",
          "data": {
            "text/html": [
              "<div>\n",
              "<style scoped>\n",
              "    .dataframe tbody tr th:only-of-type {\n",
              "        vertical-align: middle;\n",
              "    }\n",
              "\n",
              "    .dataframe tbody tr th {\n",
              "        vertical-align: top;\n",
              "    }\n",
              "\n",
              "    .dataframe thead th {\n",
              "        text-align: right;\n",
              "    }\n",
              "</style>\n",
              "<table border=\"1\" class=\"dataframe\">\n",
              "  <thead>\n",
              "    <tr style=\"text-align: right;\">\n",
              "      <th></th>\n",
              "      <th>customer no</th>\n",
              "      <th>Interarrival Time</th>\n",
              "      <th>Arrival Time</th>\n",
              "      <th>Service Time</th>\n",
              "      <th>Time Service Begin</th>\n",
              "      <th>Waiting Time</th>\n",
              "      <th>Time Service End</th>\n",
              "      <th>The Customer Spend time in the system</th>\n",
              "      <th>Idle Time</th>\n",
              "    </tr>\n",
              "  </thead>\n",
              "  <tbody>\n",
              "    <tr>\n",
              "      <th>0</th>\n",
              "      <td>1</td>\n",
              "      <td>0</td>\n",
              "      <td>0</td>\n",
              "      <td>5.94</td>\n",
              "      <td>0.00</td>\n",
              "      <td>0.00</td>\n",
              "      <td>5.94</td>\n",
              "      <td>5.94</td>\n",
              "      <td>0.00</td>\n",
              "    </tr>\n",
              "    <tr>\n",
              "      <th>1</th>\n",
              "      <td>2</td>\n",
              "      <td>2</td>\n",
              "      <td>2</td>\n",
              "      <td>5.32</td>\n",
              "      <td>5.94</td>\n",
              "      <td>3.94</td>\n",
              "      <td>7.32</td>\n",
              "      <td>9.26</td>\n",
              "      <td>0.00</td>\n",
              "    </tr>\n",
              "    <tr>\n",
              "      <th>2</th>\n",
              "      <td>3</td>\n",
              "      <td>4</td>\n",
              "      <td>6</td>\n",
              "      <td>5.56</td>\n",
              "      <td>7.32</td>\n",
              "      <td>1.32</td>\n",
              "      <td>11.56</td>\n",
              "      <td>6.88</td>\n",
              "      <td>0.00</td>\n",
              "    </tr>\n",
              "    <tr>\n",
              "      <th>3</th>\n",
              "      <td>4</td>\n",
              "      <td>11</td>\n",
              "      <td>17</td>\n",
              "      <td>5.02</td>\n",
              "      <td>17.00</td>\n",
              "      <td>0.00</td>\n",
              "      <td>22.02</td>\n",
              "      <td>5.02</td>\n",
              "      <td>5.44</td>\n",
              "    </tr>\n",
              "    <tr>\n",
              "      <th>4</th>\n",
              "      <td>5</td>\n",
              "      <td>13</td>\n",
              "      <td>30</td>\n",
              "      <td>6.48</td>\n",
              "      <td>30.00</td>\n",
              "      <td>0.00</td>\n",
              "      <td>36.48</td>\n",
              "      <td>6.48</td>\n",
              "      <td>7.98</td>\n",
              "    </tr>\n",
              "    <tr>\n",
              "      <th>5</th>\n",
              "      <td>6</td>\n",
              "      <td>1</td>\n",
              "      <td>31</td>\n",
              "      <td>5.12</td>\n",
              "      <td>36.48</td>\n",
              "      <td>5.48</td>\n",
              "      <td>36.12</td>\n",
              "      <td>10.60</td>\n",
              "      <td>0.00</td>\n",
              "    </tr>\n",
              "    <tr>\n",
              "      <th>6</th>\n",
              "      <td>7</td>\n",
              "      <td>4</td>\n",
              "      <td>35</td>\n",
              "      <td>6.07</td>\n",
              "      <td>36.12</td>\n",
              "      <td>1.12</td>\n",
              "      <td>41.07</td>\n",
              "      <td>7.19</td>\n",
              "      <td>0.00</td>\n",
              "    </tr>\n",
              "    <tr>\n",
              "      <th>7</th>\n",
              "      <td>8</td>\n",
              "      <td>5</td>\n",
              "      <td>40</td>\n",
              "      <td>5.32</td>\n",
              "      <td>41.07</td>\n",
              "      <td>1.07</td>\n",
              "      <td>45.32</td>\n",
              "      <td>6.39</td>\n",
              "      <td>0.00</td>\n",
              "    </tr>\n",
              "    <tr>\n",
              "      <th>8</th>\n",
              "      <td>9</td>\n",
              "      <td>10</td>\n",
              "      <td>50</td>\n",
              "      <td>5.30</td>\n",
              "      <td>50.00</td>\n",
              "      <td>0.00</td>\n",
              "      <td>55.30</td>\n",
              "      <td>5.30</td>\n",
              "      <td>4.68</td>\n",
              "    </tr>\n",
              "    <tr>\n",
              "      <th>9</th>\n",
              "      <td>10</td>\n",
              "      <td>6</td>\n",
              "      <td>56</td>\n",
              "      <td>5.77</td>\n",
              "      <td>56.00</td>\n",
              "      <td>0.00</td>\n",
              "      <td>61.77</td>\n",
              "      <td>5.77</td>\n",
              "      <td>0.70</td>\n",
              "    </tr>\n",
              "    <tr>\n",
              "      <th>10</th>\n",
              "      <td>11</td>\n",
              "      <td>4</td>\n",
              "      <td>60</td>\n",
              "      <td>5.85</td>\n",
              "      <td>61.77</td>\n",
              "      <td>1.77</td>\n",
              "      <td>65.85</td>\n",
              "      <td>7.62</td>\n",
              "      <td>0.00</td>\n",
              "    </tr>\n",
              "    <tr>\n",
              "      <th>11</th>\n",
              "      <td>12</td>\n",
              "      <td>7</td>\n",
              "      <td>67</td>\n",
              "      <td>5.03</td>\n",
              "      <td>67.00</td>\n",
              "      <td>0.00</td>\n",
              "      <td>72.03</td>\n",
              "      <td>5.03</td>\n",
              "      <td>1.15</td>\n",
              "    </tr>\n",
              "    <tr>\n",
              "      <th>12</th>\n",
              "      <td>13</td>\n",
              "      <td>10</td>\n",
              "      <td>77</td>\n",
              "      <td>5.19</td>\n",
              "      <td>77.00</td>\n",
              "      <td>0.00</td>\n",
              "      <td>82.19</td>\n",
              "      <td>5.19</td>\n",
              "      <td>4.97</td>\n",
              "    </tr>\n",
              "    <tr>\n",
              "      <th>13</th>\n",
              "      <td>14</td>\n",
              "      <td>6</td>\n",
              "      <td>83</td>\n",
              "      <td>6.21</td>\n",
              "      <td>83.00</td>\n",
              "      <td>0.00</td>\n",
              "      <td>89.21</td>\n",
              "      <td>6.21</td>\n",
              "      <td>0.81</td>\n",
              "    </tr>\n",
              "    <tr>\n",
              "      <th>14</th>\n",
              "      <td>15</td>\n",
              "      <td>1</td>\n",
              "      <td>84</td>\n",
              "      <td>6.08</td>\n",
              "      <td>89.21</td>\n",
              "      <td>5.21</td>\n",
              "      <td>90.08</td>\n",
              "      <td>11.29</td>\n",
              "      <td>0.00</td>\n",
              "    </tr>\n",
              "    <tr>\n",
              "      <th>15</th>\n",
              "      <td>16</td>\n",
              "      <td>6</td>\n",
              "      <td>90</td>\n",
              "      <td>5.05</td>\n",
              "      <td>90.08</td>\n",
              "      <td>0.08</td>\n",
              "      <td>95.05</td>\n",
              "      <td>5.13</td>\n",
              "      <td>0.00</td>\n",
              "    </tr>\n",
              "    <tr>\n",
              "      <th>16</th>\n",
              "      <td>17</td>\n",
              "      <td>7</td>\n",
              "      <td>97</td>\n",
              "      <td>5.06</td>\n",
              "      <td>97.00</td>\n",
              "      <td>0.00</td>\n",
              "      <td>102.06</td>\n",
              "      <td>5.06</td>\n",
              "      <td>1.95</td>\n",
              "    </tr>\n",
              "    <tr>\n",
              "      <th>17</th>\n",
              "      <td>18</td>\n",
              "      <td>6</td>\n",
              "      <td>103</td>\n",
              "      <td>5.01</td>\n",
              "      <td>103.00</td>\n",
              "      <td>0.00</td>\n",
              "      <td>108.01</td>\n",
              "      <td>5.01</td>\n",
              "      <td>0.94</td>\n",
              "    </tr>\n",
              "    <tr>\n",
              "      <th>18</th>\n",
              "      <td>19</td>\n",
              "      <td>5</td>\n",
              "      <td>108</td>\n",
              "      <td>5.15</td>\n",
              "      <td>108.01</td>\n",
              "      <td>0.01</td>\n",
              "      <td>113.15</td>\n",
              "      <td>5.16</td>\n",
              "      <td>0.00</td>\n",
              "    </tr>\n",
              "    <tr>\n",
              "      <th>19</th>\n",
              "      <td>20</td>\n",
              "      <td>5</td>\n",
              "      <td>113</td>\n",
              "      <td>5.21</td>\n",
              "      <td>113.15</td>\n",
              "      <td>0.15</td>\n",
              "      <td>118.21</td>\n",
              "      <td>5.36</td>\n",
              "      <td>0.00</td>\n",
              "    </tr>\n",
              "  </tbody>\n",
              "</table>\n",
              "</div>"
            ],
          
            
